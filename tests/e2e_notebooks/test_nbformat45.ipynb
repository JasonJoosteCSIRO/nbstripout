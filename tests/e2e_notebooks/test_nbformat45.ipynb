{
 "cells": [
  {
   "cell_type": "code",
   "execution_count": 1,
   "id": "5c42035d",
   "metadata": {},
   "outputs": [
    {
     "data": {
      "text/plain": [
       "'This is the new Jupyter notebook'"
      ]
     },
     "execution_count": 1,
     "metadata": {},
     "output_type": "execute_result"
    }
   ],
   "source": [
    "\"This is the new Jupyter notebook\""
   ]
  },
  {
   "cell_type": "code",
   "execution_count": 2,
   "id": "886205fa",
   "metadata": {
    "scrolled": false
   },
   "outputs": [
    {
     "name": "stdout",
     "output_type": "stream",
     "text": [
      "test_drop_empty_cells_dontdrop.ipynb.expected\r\n",
      "test_drop_empty_cells.ipynb\r\n",
      "test_drop_empty_cells.ipynb.expected\r\n",
      "test_drop_tagged_cells_dontdrop.ipynb.expected\r\n",
      "test_drop_tagged_cells.ipynb\r\n",
      "test_drop_tagged_cells.ipynb.expected\r\n",
      "test_execution_timing.ipynb\r\n",
      "test_execution_timing.ipynb.expected\r\n",
      "test_keep_metadata_keys.ipynb\r\n",
      "test_keep_metadata_keys.ipynb.expected\r\n",
      "test_max_size.ipynb\r\n",
      "test_max_size.ipynb.expected\r\n",
      "test_max_size.ipynb.expected_id\r\n",
      "test_metadata_exception.ipynb\r\n",
      "test_metadata_extra_keys.ipynb.expected\r\n",
      "test_metadata.ipynb\r\n",
      "test_metadata.ipynb.expected\r\n",
      "test_metadata_keep_count.ipynb.expected\r\n",
      "test_metadata_keep_output.ipynb.expected\r\n",
      "test_metadata_keep_output_keep_count.ipynb.expected\r\n",
      "test_metadata_notebook.ipynb\r\n",
      "test_metadata_notebook.ipynb.expected\r\n",
      "test_metadata_period.ipynb\r\n",
      "test_metadata_period.ipynb.expected\r\n",
      "test_nbformat2.ipynb.expected\r\n",
      "test_nbformat5.ipynb\r\n",
      "test_strip_init_cells.ipynb\r\n",
      "test_strip_init_cells.ipynb.expected\r\n",
      "test_unicode.ipynb\r\n",
      "test_unicode.ipynb.expected\r\n",
      "test_widgets.ipynb\r\n",
      "test_widgets.ipynb.expected\r\n",
      "test_zeppelin.zpln\r\n",
      "test_zeppelin.zpln.expected\r\n"
     ]
    }
   ],
   "source": [
    "ls"
   ]
  },
  {
   "cell_type": "code",
   "execution_count": 3,
   "id": "a183d4e9",
   "metadata": {},
   "outputs": [
    {
     "name": "stdout",
     "output_type": "stream",
     "text": [
      "f(3) =  4\n"
     ]
    }
   ],
   "source": [
    "def f(x):\n",
    "    \"\"\"My function\n",
    "    x : parameter\"\"\"\n",
    "    \n",
    "    return x+1\n",
    "\n",
    "print(\"f(3) = \", f(3))"
   ]
  }
 ],
 "metadata": {
  "kernelspec": {
   "display_name": "Python 3 (ipykernel)",
   "language": "python",
   "name": "python3"
  },
  "language_info": {
   "codemirror_mode": {
    "name": "ipython",
    "version": 3
   },
   "file_extension": ".py",
   "mimetype": "text/x-python",
   "name": "python",
   "nbconvert_exporter": "python",
   "pygments_lexer": "ipython3",
   "version": "3.10.6"
  }
 },
 "nbformat": 4,
 "nbformat_minor": 5
}
